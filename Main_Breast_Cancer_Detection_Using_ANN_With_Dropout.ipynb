{
 "cells": [
  {
   "cell_type": "markdown",
   "metadata": {},
   "source": [
    "# Importing the libraries"
   ]
  },
  {
   "cell_type": "code",
   "execution_count": 1,
   "metadata": {},
   "outputs": [],
   "source": [
    "import pandas as pd\n",
    "import seaborn as sns\n",
    "import matplotlib.pyplot as plt\n",
    "import numpy as np"
   ]
  },
  {
   "cell_type": "markdown",
   "metadata": {},
   "source": [
    "# Importing the dataset"
   ]
  },
  {
   "cell_type": "code",
   "execution_count": 2,
   "metadata": {},
   "outputs": [],
   "source": [
    "dataset = pd.read_csv(\"Dataset.csv\")"
   ]
  },
  {
   "cell_type": "code",
   "execution_count": 3,
   "metadata": {},
   "outputs": [
    {
     "data": {
      "text/html": [
       "<div>\n",
       "<style scoped>\n",
       "    .dataframe tbody tr th:only-of-type {\n",
       "        vertical-align: middle;\n",
       "    }\n",
       "\n",
       "    .dataframe tbody tr th {\n",
       "        vertical-align: top;\n",
       "    }\n",
       "\n",
       "    .dataframe thead th {\n",
       "        text-align: right;\n",
       "    }\n",
       "</style>\n",
       "<table border=\"1\" class=\"dataframe\">\n",
       "  <thead>\n",
       "    <tr style=\"text-align: right;\">\n",
       "      <th></th>\n",
       "      <th>id</th>\n",
       "      <th>diagnosis</th>\n",
       "      <th>radius_mean</th>\n",
       "      <th>texture_mean</th>\n",
       "      <th>perimeter_mean</th>\n",
       "      <th>area_mean</th>\n",
       "      <th>smoothness_mean</th>\n",
       "      <th>compactness_mean</th>\n",
       "      <th>concavity_mean</th>\n",
       "      <th>concave points_mean</th>\n",
       "      <th>...</th>\n",
       "      <th>texture_worst</th>\n",
       "      <th>perimeter_worst</th>\n",
       "      <th>area_worst</th>\n",
       "      <th>smoothness_worst</th>\n",
       "      <th>compactness_worst</th>\n",
       "      <th>concavity_worst</th>\n",
       "      <th>concave points_worst</th>\n",
       "      <th>symmetry_worst</th>\n",
       "      <th>fractal_dimension_worst</th>\n",
       "      <th>Unnamed: 32</th>\n",
       "    </tr>\n",
       "  </thead>\n",
       "  <tbody>\n",
       "    <tr>\n",
       "      <th>0</th>\n",
       "      <td>842302</td>\n",
       "      <td>M</td>\n",
       "      <td>17.99</td>\n",
       "      <td>10.38</td>\n",
       "      <td>122.80</td>\n",
       "      <td>1001.0</td>\n",
       "      <td>0.11840</td>\n",
       "      <td>0.27760</td>\n",
       "      <td>0.3001</td>\n",
       "      <td>0.14710</td>\n",
       "      <td>...</td>\n",
       "      <td>17.33</td>\n",
       "      <td>184.60</td>\n",
       "      <td>2019.0</td>\n",
       "      <td>0.1622</td>\n",
       "      <td>0.6656</td>\n",
       "      <td>0.7119</td>\n",
       "      <td>0.2654</td>\n",
       "      <td>0.4601</td>\n",
       "      <td>0.11890</td>\n",
       "      <td>NaN</td>\n",
       "    </tr>\n",
       "    <tr>\n",
       "      <th>1</th>\n",
       "      <td>842517</td>\n",
       "      <td>M</td>\n",
       "      <td>20.57</td>\n",
       "      <td>17.77</td>\n",
       "      <td>132.90</td>\n",
       "      <td>1326.0</td>\n",
       "      <td>0.08474</td>\n",
       "      <td>0.07864</td>\n",
       "      <td>0.0869</td>\n",
       "      <td>0.07017</td>\n",
       "      <td>...</td>\n",
       "      <td>23.41</td>\n",
       "      <td>158.80</td>\n",
       "      <td>1956.0</td>\n",
       "      <td>0.1238</td>\n",
       "      <td>0.1866</td>\n",
       "      <td>0.2416</td>\n",
       "      <td>0.1860</td>\n",
       "      <td>0.2750</td>\n",
       "      <td>0.08902</td>\n",
       "      <td>NaN</td>\n",
       "    </tr>\n",
       "    <tr>\n",
       "      <th>2</th>\n",
       "      <td>84300903</td>\n",
       "      <td>M</td>\n",
       "      <td>19.69</td>\n",
       "      <td>21.25</td>\n",
       "      <td>130.00</td>\n",
       "      <td>1203.0</td>\n",
       "      <td>0.10960</td>\n",
       "      <td>0.15990</td>\n",
       "      <td>0.1974</td>\n",
       "      <td>0.12790</td>\n",
       "      <td>...</td>\n",
       "      <td>25.53</td>\n",
       "      <td>152.50</td>\n",
       "      <td>1709.0</td>\n",
       "      <td>0.1444</td>\n",
       "      <td>0.4245</td>\n",
       "      <td>0.4504</td>\n",
       "      <td>0.2430</td>\n",
       "      <td>0.3613</td>\n",
       "      <td>0.08758</td>\n",
       "      <td>NaN</td>\n",
       "    </tr>\n",
       "    <tr>\n",
       "      <th>3</th>\n",
       "      <td>84348301</td>\n",
       "      <td>M</td>\n",
       "      <td>11.42</td>\n",
       "      <td>20.38</td>\n",
       "      <td>77.58</td>\n",
       "      <td>386.1</td>\n",
       "      <td>0.14250</td>\n",
       "      <td>0.28390</td>\n",
       "      <td>0.2414</td>\n",
       "      <td>0.10520</td>\n",
       "      <td>...</td>\n",
       "      <td>26.50</td>\n",
       "      <td>98.87</td>\n",
       "      <td>567.7</td>\n",
       "      <td>0.2098</td>\n",
       "      <td>0.8663</td>\n",
       "      <td>0.6869</td>\n",
       "      <td>0.2575</td>\n",
       "      <td>0.6638</td>\n",
       "      <td>0.17300</td>\n",
       "      <td>NaN</td>\n",
       "    </tr>\n",
       "    <tr>\n",
       "      <th>4</th>\n",
       "      <td>84358402</td>\n",
       "      <td>M</td>\n",
       "      <td>20.29</td>\n",
       "      <td>14.34</td>\n",
       "      <td>135.10</td>\n",
       "      <td>1297.0</td>\n",
       "      <td>0.10030</td>\n",
       "      <td>0.13280</td>\n",
       "      <td>0.1980</td>\n",
       "      <td>0.10430</td>\n",
       "      <td>...</td>\n",
       "      <td>16.67</td>\n",
       "      <td>152.20</td>\n",
       "      <td>1575.0</td>\n",
       "      <td>0.1374</td>\n",
       "      <td>0.2050</td>\n",
       "      <td>0.4000</td>\n",
       "      <td>0.1625</td>\n",
       "      <td>0.2364</td>\n",
       "      <td>0.07678</td>\n",
       "      <td>NaN</td>\n",
       "    </tr>\n",
       "  </tbody>\n",
       "</table>\n",
       "<p>5 rows × 33 columns</p>\n",
       "</div>"
      ],
      "text/plain": [
       "         id diagnosis  radius_mean  texture_mean  perimeter_mean  area_mean  \\\n",
       "0    842302         M        17.99         10.38          122.80     1001.0   \n",
       "1    842517         M        20.57         17.77          132.90     1326.0   \n",
       "2  84300903         M        19.69         21.25          130.00     1203.0   \n",
       "3  84348301         M        11.42         20.38           77.58      386.1   \n",
       "4  84358402         M        20.29         14.34          135.10     1297.0   \n",
       "\n",
       "   smoothness_mean  compactness_mean  concavity_mean  concave points_mean  \\\n",
       "0          0.11840           0.27760          0.3001              0.14710   \n",
       "1          0.08474           0.07864          0.0869              0.07017   \n",
       "2          0.10960           0.15990          0.1974              0.12790   \n",
       "3          0.14250           0.28390          0.2414              0.10520   \n",
       "4          0.10030           0.13280          0.1980              0.10430   \n",
       "\n",
       "   ...  texture_worst  perimeter_worst  area_worst  smoothness_worst  \\\n",
       "0  ...          17.33           184.60      2019.0            0.1622   \n",
       "1  ...          23.41           158.80      1956.0            0.1238   \n",
       "2  ...          25.53           152.50      1709.0            0.1444   \n",
       "3  ...          26.50            98.87       567.7            0.2098   \n",
       "4  ...          16.67           152.20      1575.0            0.1374   \n",
       "\n",
       "   compactness_worst  concavity_worst  concave points_worst  symmetry_worst  \\\n",
       "0             0.6656           0.7119                0.2654          0.4601   \n",
       "1             0.1866           0.2416                0.1860          0.2750   \n",
       "2             0.4245           0.4504                0.2430          0.3613   \n",
       "3             0.8663           0.6869                0.2575          0.6638   \n",
       "4             0.2050           0.4000                0.1625          0.2364   \n",
       "\n",
       "   fractal_dimension_worst  Unnamed: 32  \n",
       "0                  0.11890          NaN  \n",
       "1                  0.08902          NaN  \n",
       "2                  0.08758          NaN  \n",
       "3                  0.17300          NaN  \n",
       "4                  0.07678          NaN  \n",
       "\n",
       "[5 rows x 33 columns]"
      ]
     },
     "execution_count": 3,
     "metadata": {},
     "output_type": "execute_result"
    }
   ],
   "source": [
    "dataset.head()"
   ]
  },
  {
   "cell_type": "code",
   "execution_count": 4,
   "metadata": {},
   "outputs": [],
   "source": [
    "X = dataset.iloc[:, 2:-1].values\n",
    "y = dataset.iloc[:, 1].values"
   ]
  },
  {
   "cell_type": "code",
   "execution_count": 5,
   "metadata": {},
   "outputs": [
    {
     "name": "stdout",
     "output_type": "stream",
     "text": [
      "[[1.799e+01 1.038e+01 1.228e+02 ... 2.654e-01 4.601e-01 1.189e-01]\n",
      " [2.057e+01 1.777e+01 1.329e+02 ... 1.860e-01 2.750e-01 8.902e-02]\n",
      " [1.969e+01 2.125e+01 1.300e+02 ... 2.430e-01 3.613e-01 8.758e-02]\n",
      " ...\n",
      " [1.660e+01 2.808e+01 1.083e+02 ... 1.418e-01 2.218e-01 7.820e-02]\n",
      " [2.060e+01 2.933e+01 1.401e+02 ... 2.650e-01 4.087e-01 1.240e-01]\n",
      " [7.760e+00 2.454e+01 4.792e+01 ... 0.000e+00 2.871e-01 7.039e-02]]\n"
     ]
    }
   ],
   "source": [
    "print(X)"
   ]
  },
  {
   "cell_type": "code",
   "execution_count": 6,
   "metadata": {},
   "outputs": [
    {
     "name": "stdout",
     "output_type": "stream",
     "text": [
      "['M' 'M' 'M' 'M' 'M' 'M' 'M' 'M' 'M' 'M' 'M' 'M' 'M' 'M' 'M' 'M' 'M' 'M'\n",
      " 'M' 'B' 'B' 'B' 'M' 'M' 'M' 'M' 'M' 'M' 'M' 'M' 'M' 'M' 'M' 'M' 'M' 'M'\n",
      " 'M' 'B' 'M' 'M' 'M' 'M' 'M' 'M' 'M' 'M' 'B' 'M' 'B' 'B' 'B' 'B' 'B' 'M'\n",
      " 'M' 'B' 'M' 'M' 'B' 'B' 'B' 'B' 'M' 'B' 'M' 'M' 'B' 'B' 'B' 'B' 'M' 'B'\n",
      " 'M' 'M' 'B' 'M' 'B' 'M' 'M' 'B' 'B' 'B' 'M' 'M' 'B' 'M' 'M' 'M' 'B' 'B'\n",
      " 'B' 'M' 'B' 'B' 'M' 'M' 'B' 'B' 'B' 'M' 'M' 'B' 'B' 'B' 'B' 'M' 'B' 'B'\n",
      " 'M' 'B' 'B' 'B' 'B' 'B' 'B' 'B' 'B' 'M' 'M' 'M' 'B' 'M' 'M' 'B' 'B' 'B'\n",
      " 'M' 'M' 'B' 'M' 'B' 'M' 'M' 'B' 'M' 'M' 'B' 'B' 'M' 'B' 'B' 'M' 'B' 'B'\n",
      " 'B' 'B' 'M' 'B' 'B' 'B' 'B' 'B' 'B' 'B' 'B' 'B' 'M' 'B' 'B' 'B' 'B' 'M'\n",
      " 'M' 'B' 'M' 'B' 'B' 'M' 'M' 'B' 'B' 'M' 'M' 'B' 'B' 'B' 'B' 'M' 'B' 'B'\n",
      " 'M' 'M' 'M' 'B' 'M' 'B' 'M' 'B' 'B' 'B' 'M' 'B' 'B' 'M' 'M' 'B' 'M' 'M'\n",
      " 'M' 'M' 'B' 'M' 'M' 'M' 'B' 'M' 'B' 'M' 'B' 'B' 'M' 'B' 'M' 'M' 'M' 'M'\n",
      " 'B' 'B' 'M' 'M' 'B' 'B' 'B' 'M' 'B' 'B' 'B' 'B' 'B' 'M' 'M' 'B' 'B' 'M'\n",
      " 'B' 'B' 'M' 'M' 'B' 'M' 'B' 'B' 'B' 'B' 'M' 'B' 'B' 'B' 'B' 'B' 'M' 'B'\n",
      " 'M' 'M' 'M' 'M' 'M' 'M' 'M' 'M' 'M' 'M' 'M' 'M' 'M' 'M' 'B' 'B' 'B' 'B'\n",
      " 'B' 'B' 'M' 'B' 'M' 'B' 'B' 'M' 'B' 'B' 'M' 'B' 'M' 'M' 'B' 'B' 'B' 'B'\n",
      " 'B' 'B' 'B' 'B' 'B' 'B' 'B' 'B' 'B' 'M' 'B' 'B' 'M' 'B' 'M' 'B' 'B' 'B'\n",
      " 'B' 'B' 'B' 'B' 'B' 'B' 'B' 'B' 'B' 'B' 'B' 'M' 'B' 'B' 'B' 'M' 'B' 'M'\n",
      " 'B' 'B' 'B' 'B' 'M' 'M' 'M' 'B' 'B' 'B' 'B' 'M' 'B' 'M' 'B' 'M' 'B' 'B'\n",
      " 'B' 'M' 'B' 'B' 'B' 'B' 'B' 'B' 'B' 'M' 'M' 'M' 'B' 'B' 'B' 'B' 'B' 'B'\n",
      " 'B' 'B' 'B' 'B' 'B' 'M' 'M' 'B' 'M' 'M' 'M' 'B' 'M' 'M' 'B' 'B' 'B' 'B'\n",
      " 'B' 'M' 'B' 'B' 'B' 'B' 'B' 'M' 'B' 'B' 'B' 'M' 'B' 'B' 'M' 'M' 'B' 'B'\n",
      " 'B' 'B' 'B' 'B' 'M' 'B' 'B' 'B' 'B' 'B' 'B' 'B' 'M' 'B' 'B' 'B' 'B' 'B'\n",
      " 'M' 'B' 'B' 'M' 'B' 'B' 'B' 'B' 'B' 'B' 'B' 'B' 'B' 'B' 'B' 'B' 'M' 'B'\n",
      " 'M' 'M' 'B' 'M' 'B' 'B' 'B' 'B' 'B' 'M' 'B' 'B' 'M' 'B' 'M' 'B' 'B' 'M'\n",
      " 'B' 'M' 'B' 'B' 'B' 'B' 'B' 'B' 'B' 'B' 'M' 'M' 'B' 'B' 'B' 'B' 'B' 'B'\n",
      " 'M' 'B' 'B' 'B' 'B' 'B' 'B' 'B' 'B' 'B' 'B' 'M' 'B' 'B' 'B' 'B' 'B' 'B'\n",
      " 'B' 'M' 'B' 'M' 'B' 'B' 'M' 'B' 'B' 'B' 'B' 'B' 'M' 'M' 'B' 'M' 'B' 'M'\n",
      " 'B' 'B' 'B' 'B' 'B' 'M' 'B' 'B' 'M' 'B' 'M' 'B' 'M' 'M' 'B' 'B' 'B' 'M'\n",
      " 'B' 'B' 'B' 'B' 'B' 'B' 'B' 'B' 'B' 'B' 'B' 'M' 'B' 'M' 'M' 'B' 'B' 'B'\n",
      " 'B' 'B' 'B' 'B' 'B' 'B' 'B' 'B' 'B' 'B' 'B' 'B' 'B' 'B' 'B' 'B' 'B' 'B'\n",
      " 'B' 'B' 'B' 'B' 'M' 'M' 'M' 'M' 'M' 'M' 'B']\n"
     ]
    }
   ],
   "source": [
    "print(y)"
   ]
  },
  {
   "cell_type": "markdown",
   "metadata": {},
   "source": [
    "# Plotting the Dependent Variable"
   ]
  },
  {
   "cell_type": "code",
   "execution_count": 7,
   "metadata": {},
   "outputs": [
    {
     "data": {
      "image/png": "[encoded data removed]",
      "text/plain": [
       "<Figure size 432x288 with 1 Axes>"
      ]
     },
     "metadata": {
      "needs_background": "light"
     },
     "output_type": "display_data"
    }
   ],
   "source": [
    "sns.countplot(y, label = \"Diagnosis\")\n",
    "plt.savefig(\"Diagnosis.jpg\")"
   ]
  },
  {
   "cell_type": "markdown",
   "metadata": {},
   "source": [
    "# Encoding the categorical data"
   ]
  },
  {
   "cell_type": "code",
   "execution_count": 8,
   "metadata": {},
   "outputs": [],
   "source": [
    "from sklearn.preprocessing import LabelEncoder"
   ]
  },
  {
   "cell_type": "code",
   "execution_count": 9,
   "metadata": {},
   "outputs": [],
   "source": [
    "le = LabelEncoder()\n",
    "\n",
    "y = le.fit_transform(y)"
   ]
  },
  {
   "cell_type": "code",
   "execution_count": 10,
   "metadata": {},
   "outputs": [
    {
     "name": "stdout",
     "output_type": "stream",
     "text": [
      "[1 1 1 1 1 1 1 1 1 1 1 1 1 1 1 1 1 1 1 0 0 0 1 1 1 1 1 1 1 1 1 1 1 1 1 1 1\n",
      " 0 1 1 1 1 1 1 1 1 0 1 0 0 0 0 0 1 1 0 1 1 0 0 0 0 1 0 1 1 0 0 0 0 1 0 1 1\n",
      " 0 1 0 1 1 0 0 0 1 1 0 1 1 1 0 0 0 1 0 0 1 1 0 0 0 1 1 0 0 0 0 1 0 0 1 0 0\n",
      " 0 0 0 0 0 0 1 1 1 0 1 1 0 0 0 1 1 0 1 0 1 1 0 1 1 0 0 1 0 0 1 0 0 0 0 1 0\n",
      " 0 0 0 0 0 0 0 0 1 0 0 0 0 1 1 0 1 0 0 1 1 0 0 1 1 0 0 0 0 1 0 0 1 1 1 0 1\n",
      " 0 1 0 0 0 1 0 0 1 1 0 1 1 1 1 0 1 1 1 0 1 0 1 0 0 1 0 1 1 1 1 0 0 1 1 0 0\n",
      " 0 1 0 0 0 0 0 1 1 0 0 1 0 0 1 1 0 1 0 0 0 0 1 0 0 0 0 0 1 0 1 1 1 1 1 1 1\n",
      " 1 1 1 1 1 1 1 0 0 0 0 0 0 1 0 1 0 0 1 0 0 1 0 1 1 0 0 0 0 0 0 0 0 0 0 0 0\n",
      " 0 1 0 0 1 0 1 0 0 0 0 0 0 0 0 0 0 0 0 0 0 1 0 0 0 1 0 1 0 0 0 0 1 1 1 0 0\n",
      " 0 0 1 0 1 0 1 0 0 0 1 0 0 0 0 0 0 0 1 1 1 0 0 0 0 0 0 0 0 0 0 0 1 1 0 1 1\n",
      " 1 0 1 1 0 0 0 0 0 1 0 0 0 0 0 1 0 0 0 1 0 0 1 1 0 0 0 0 0 0 1 0 0 0 0 0 0\n",
      " 0 1 0 0 0 0 0 1 0 0 1 0 0 0 0 0 0 0 0 0 0 0 0 1 0 1 1 0 1 0 0 0 0 0 1 0 0\n",
      " 1 0 1 0 0 1 0 1 0 0 0 0 0 0 0 0 1 1 0 0 0 0 0 0 1 0 0 0 0 0 0 0 0 0 0 1 0\n",
      " 0 0 0 0 0 0 1 0 1 0 0 1 0 0 0 0 0 1 1 0 1 0 1 0 0 0 0 0 1 0 0 1 0 1 0 1 1\n",
      " 0 0 0 1 0 0 0 0 0 0 0 0 0 0 0 1 0 1 1 0 0 0 0 0 0 0 0 0 0 0 0 0 0 0 0 0 0\n",
      " 0 0 0 0 0 0 0 1 1 1 1 1 1 0]\n"
     ]
    }
   ],
   "source": [
    "print(y)"
   ]
  },
  {
   "cell_type": "markdown",
   "metadata": {},
   "source": [
    "# Splitting the dataset into Training and Testing set"
   ]
  },
  {
   "cell_type": "code",
   "execution_count": 11,
   "metadata": {},
   "outputs": [],
   "source": [
    "from sklearn.model_selection import train_test_split"
   ]
  },
  {
   "cell_type": "code",
   "execution_count": 12,
   "metadata": {},
   "outputs": [],
   "source": [
    "X_train, X_test, y_train, y_test = train_test_split(X, y, test_size = 0.15, random_state = 0)"
   ]
  },
  {
   "cell_type": "code",
   "execution_count": 13,
   "metadata": {},
   "outputs": [
    {
     "name": "stdout",
     "output_type": "stream",
     "text": [
      "[[1.350e+01 1.271e+01 8.569e+01 ... 2.210e-02 2.267e-01 6.192e-02]\n",
      " [8.196e+00 1.684e+01 5.171e+01 ... 2.564e-02 3.105e-01 7.409e-02]\n",
      " [1.719e+01 2.207e+01 1.116e+02 ... 1.984e-01 3.216e-01 7.570e-02]\n",
      " ...\n",
      " [9.436e+00 1.832e+01 5.982e+01 ... 5.052e-02 2.454e-01 8.136e-02]\n",
      " [9.720e+00 1.822e+01 6.073e+01 ... 0.000e+00 1.909e-01 6.559e-02]\n",
      " [1.151e+01 2.393e+01 7.452e+01 ... 9.653e-02 2.112e-01 8.732e-02]]\n"
     ]
    }
   ],
   "source": [
    "print(X_train)"
   ]
  },
  {
   "cell_type": "code",
   "execution_count": 14,
   "metadata": {},
   "outputs": [
    {
     "name": "stdout",
     "output_type": "stream",
     "text": [
      "[[1.340e+01 2.052e+01 8.864e+01 ... 2.051e-01 3.585e-01 1.109e-01]\n",
      " [1.321e+01 2.525e+01 8.410e+01 ... 6.005e-02 2.444e-01 6.788e-02]\n",
      " [1.402e+01 1.566e+01 8.959e+01 ... 8.216e-02 2.136e-01 6.710e-02]\n",
      " ...\n",
      " [1.243e+01 1.700e+01 7.860e+01 ... 2.832e-02 1.901e-01 5.932e-02]\n",
      " [1.603e+01 1.551e+01 1.058e+02 ... 1.981e-01 3.019e-01 9.124e-02]\n",
      " [1.232e+01 1.239e+01 7.885e+01 ... 9.391e-02 2.827e-01 6.771e-02]]\n"
     ]
    }
   ],
   "source": [
    "print(X_test)"
   ]
  },
  {
   "cell_type": "code",
   "execution_count": 15,
   "metadata": {},
   "outputs": [
    {
     "name": "stdout",
     "output_type": "stream",
     "text": [
      "[0 0 1 1 0 1 0 1 0 0 1 0 0 0 0 0 0 0 1 0 1 0 1 1 0 1 1 0 0 0 0 0 0 0 0 0 1\n",
      " 0 1 0 0 0 0 0 1 0 0 0 0 0 0 1 1 0 0 0 1 0 0 1 0 1 0 0 0 0 0 0 0 1 0 1 0 1\n",
      " 1 0 0 1 0 1 1 1 0 0 0 0 0 0 1 0 0 0 0 1 1 0 0 1 0 0 0 0 1 0 0 1 1 0 0 1 1\n",
      " 0 0 1 0 0 1 1 1 0 0 0 1 0 0 0 0 0 1 0 1 0 1 0 1 0 1 0 0 0 0 1 0 1 0 0 0 1\n",
      " 0 0 0 1 0 0 1 1 0 1 0 1 0 1 1 1 1 0 1 0 1 0 1 0 1 0 0 1 0 0 0 0 0 0 0 0 0\n",
      " 0 0 0 0 1 0 0 0 1 0 0 0 0 0 0 1 0 1 0 0 1 0 1 1 0 1 1 0 0 1 0 0 0 1 0 0 0\n",
      " 0 0 1 1 0 0 0 0 1 1 0 0 0 0 1 0 0 1 0 0 1 0 1 0 0 0 0 1 1 1 1 0 1 0 1 1 0\n",
      " 0 0 0 0 1 0 0 1 0 0 1 1 0 0 0 1 1 0 0 1 0 0 0 1 0 1 0 1 1 1 1 0 0 0 0 1 1\n",
      " 0 0 0 0 0 1 0 0 1 0 0 1 1 1 1 0 0 1 0 0 0 1 1 0 0 0 0 0 1 1 1 0 1 1 0 0 0\n",
      " 0 0 0 1 0 0 0 0 0 0 1 1 0 1 0 1 1 0 0 0 0 0 1 1 1 0 0 1 1 0 0 1 0 1 1 0 1\n",
      " 0 0 0 0 0 0 0 1 1 0 0 0 1 0 0 0 0 1 0 1 1 1 0 1 0 1 0 1 1 0 0 0 0 0 0 0 0\n",
      " 1 1 1 1 1 0 0 0 0 0 0 0 1 0 1 0 0 0 0 0 1 1 1 0 1 0 0 1 1 1 1 0 1 1 1 0 1\n",
      " 0 1 0 0 1 1 0 1 0 0 0 0 1 0 0 1 0 0 0 1 1 0 0 0 1 0 0 1 0 0 0 0 0 1 1 1 0\n",
      " 0 0]\n"
     ]
    }
   ],
   "source": [
    "print(y_train)"
   ]
  },
  {
   "cell_type": "code",
   "execution_count": 16,
   "metadata": {},
   "outputs": [
    {
     "name": "stdout",
     "output_type": "stream",
     "text": [
      "[1 0 0 0 0 0 0 0 0 0 0 0 0 0 0 1 0 1 1 1 1 1 0 0 1 0 0 1 0 1 0 1 0 1 0 1 0\n",
      " 1 0 1 1 0 1 0 0 1 0 0 0 1 1 1 1 0 0 0 0 0 0 1 1 1 0 0 1 0 1 1 1 0 0 1 0 1\n",
      " 1 0 0 0 0 0 1 1 1 0 1 0]\n"
     ]
    }
   ],
   "source": [
    "print(y_test)"
   ]
  },
  {
   "cell_type": "markdown",
   "metadata": {},
   "source": [
    "# Feature Scaling"
   ]
  },
  {
   "cell_type": "code",
   "execution_count": 17,
   "metadata": {},
   "outputs": [],
   "source": [
    "from sklearn.preprocessing import StandardScaler "
   ]
  },
  {
   "cell_type": "code",
   "execution_count": 18,
   "metadata": {},
   "outputs": [],
   "source": [
    "sc = StandardScaler()"
   ]
  },
  {
   "cell_type": "code",
   "execution_count": 19,
   "metadata": {},
   "outputs": [],
   "source": [
    "X_train = sc.fit_transform(X_train)\n",
    "X_test = sc.transform(X_test)"
   ]
  },
  {
   "cell_type": "code",
   "execution_count": 20,
   "metadata": {},
   "outputs": [
    {
     "name": "stdout",
     "output_type": "stream",
     "text": [
      "[[-0.1725321  -1.54666427 -0.25304409 ... -1.41901523 -1.01864958\n",
      "  -1.21862477]\n",
      " [-1.67708411 -0.55788745 -1.65424438 ... -1.3647525   0.32299179\n",
      "  -0.54226125]\n",
      " [ 0.87418677  0.69424397  0.81538145 ...  1.28339165  0.50070324\n",
      "  -0.45278342]\n",
      " ...\n",
      " [-1.32534118 -0.20355581 -1.31982018 ... -0.9833805  -0.71926183\n",
      "  -0.13822158]\n",
      " [-1.2447807  -0.22749713 -1.28229539 ... -1.75777412 -1.59180903\n",
      "  -1.01465976]\n",
      " [-0.73702277  1.13955266 -0.71365054 ... -0.27811821 -1.26680521\n",
      "   0.19301314]]\n"
     ]
    }
   ],
   "source": [
    "print(X_train)"
   ]
  },
  {
   "cell_type": "code",
   "execution_count": 21,
   "metadata": {},
   "outputs": [
    {
     "name": "stdout",
     "output_type": "stream",
     "text": [
      "[[-0.20089847  0.32315339 -0.1313978  ...  1.38609231  1.09147372\n",
      "   1.50350219]\n",
      " [-0.25479456  1.45557818 -0.31860937 ... -0.83730031 -0.73527187\n",
      "  -0.88739005]\n",
      " [-0.025027   -0.84039511 -0.09222357 ... -0.49838813 -1.22838111\n",
      "  -0.93073956]\n",
      " ...\n",
      " [-0.47605221 -0.51958133 -0.54540754 ... -1.32367223 -1.60461706\n",
      "  -1.36312314]\n",
      " [ 0.54513693 -0.8763071   0.57621247 ...  1.27879312  0.18530544\n",
      "   0.41087222]\n",
      " [-0.50725521 -1.62327652 -0.53509853 ... -0.31827877 -0.12208733\n",
      "  -0.89683802]]\n"
     ]
    }
   ],
   "source": [
    "print(X_test)"
   ]
  },
  {
   "cell_type": "markdown",
   "metadata": {},
   "source": [
    "# ANN Implementation"
   ]
  },
  {
   "cell_type": "code",
   "execution_count": 22,
   "metadata": {},
   "outputs": [
    {
     "name": "stderr",
     "output_type": "stream",
     "text": [
      "Using TensorFlow backend.\n"
     ]
    }
   ],
   "source": [
    "import keras\n",
    "from keras.models import Sequential\n",
    "from keras.layers import Dense\n",
    "from keras.layers import Dropout"
   ]
  },
  {
   "cell_type": "code",
   "execution_count": 23,
   "metadata": {},
   "outputs": [],
   "source": [
    "classifier = Sequential()"
   ]
  },
  {
   "cell_type": "markdown",
   "metadata": {},
   "source": [
    "## Adding the layers"
   ]
  },
  {
   "cell_type": "code",
   "execution_count": 24,
   "metadata": {},
   "outputs": [],
   "source": [
    "# Adding the input layer, first hidden layer and dropout layer\n",
    "classifier.add(Dense(16, activation = \"relu\"))\n",
    "classifier.add(Dropout(rate = 1.0))\n",
    "\n",
    "# Adding the second hidden layer and dropout layer\n",
    "classifier.add(Dense(32, activation = \"relu\"))\n",
    "classifier.add(Dropout(rate = 1.0))\n",
    "\n",
    "# Adding the output layer\n",
    "classifier.add(Dense(1, activation = \"sigmoid\"))"
   ]
  },
  {
   "cell_type": "markdown",
   "metadata": {},
   "source": [
    "## Compiling the ANN"
   ]
  },
  {
   "cell_type": "code",
   "execution_count": 25,
   "metadata": {},
   "outputs": [],
   "source": [
    "classifier.compile(optimizer = \"adam\", loss = \"binary_crossentropy\", metrics = [\"accuracy\"])"
   ]
  },
  {
   "cell_type": "markdown",
   "metadata": {},
   "source": [
    "## Training the ANN"
   ]
  },
  {
   "cell_type": "code",
   "execution_count": 26,
   "metadata": {},
   "outputs": [
    {
     "name": "stdout",
     "output_type": "stream",
     "text": [
      "Epoch 1/125\n",
      "483/483 [==============================] - 0s 514us/step - loss: 0.7720 - accuracy: 0.3623\n",
      "Epoch 2/125\n",
      "483/483 [==============================] - 0s 21us/step - loss: 0.7014 - accuracy: 0.3789\n",
      "Epoch 3/125\n",
      "483/483 [==============================] - 0s 21us/step - loss: 0.6375 - accuracy: 0.4555\n",
      "Epoch 4/125\n",
      "483/483 [==============================] - 0s 23us/step - loss: 0.5797 - accuracy: 0.6253\n",
      "Epoch 5/125\n",
      "483/483 [==============================] - 0s 21us/step - loss: 0.5295 - accuracy: 0.8323\n",
      "Epoch 6/125\n",
      "483/483 [==============================] - 0s 19us/step - loss: 0.4806 - accuracy: 0.9110\n",
      "Epoch 7/125\n",
      "483/483 [==============================] - 0s 21us/step - loss: 0.4357 - accuracy: 0.9400\n",
      "Epoch 8/125\n",
      "483/483 [==============================] - 0s 21us/step - loss: 0.3919 - accuracy: 0.9503\n",
      "Epoch 9/125\n",
      "483/483 [==============================] - 0s 19us/step - loss: 0.3506 - accuracy: 0.9524\n",
      "Epoch 10/125\n",
      "483/483 [==============================] - 0s 21us/step - loss: 0.3128 - accuracy: 0.9545\n",
      "Epoch 11/125\n",
      "483/483 [==============================] - 0s 21us/step - loss: 0.2781 - accuracy: 0.9586\n",
      "Epoch 12/125\n",
      "483/483 [==============================] - 0s 21us/step - loss: 0.2473 - accuracy: 0.9586\n",
      "Epoch 13/125\n",
      "483/483 [==============================] - 0s 21us/step - loss: 0.2199 - accuracy: 0.9607\n",
      "Epoch 14/125\n",
      "483/483 [==============================] - 0s 21us/step - loss: 0.1967 - accuracy: 0.9607\n",
      "Epoch 15/125\n",
      "483/483 [==============================] - 0s 21us/step - loss: 0.1772 - accuracy: 0.9607\n",
      "Epoch 16/125\n",
      "483/483 [==============================] - 0s 21us/step - loss: 0.1611 - accuracy: 0.9607\n",
      "Epoch 17/125\n",
      "483/483 [==============================] - 0s 23us/step - loss: 0.1479 - accuracy: 0.9607\n",
      "Epoch 18/125\n",
      "483/483 [==============================] - 0s 21us/step - loss: 0.1364 - accuracy: 0.9607\n",
      "Epoch 19/125\n",
      "483/483 [==============================] - 0s 21us/step - loss: 0.1276 - accuracy: 0.9648\n",
      "Epoch 20/125\n",
      "483/483 [==============================] - 0s 23us/step - loss: 0.1196 - accuracy: 0.9669\n",
      "Epoch 21/125\n",
      "483/483 [==============================] - 0s 23us/step - loss: 0.1134 - accuracy: 0.9689\n",
      "Epoch 22/125\n",
      "483/483 [==============================] - 0s 25us/step - loss: 0.1078 - accuracy: 0.9689\n",
      "Epoch 23/125\n",
      "483/483 [==============================] - 0s 21us/step - loss: 0.1034 - accuracy: 0.9689\n",
      "Epoch 24/125\n",
      "483/483 [==============================] - 0s 19us/step - loss: 0.0991 - accuracy: 0.9710\n",
      "Epoch 25/125\n",
      "483/483 [==============================] - 0s 21us/step - loss: 0.0958 - accuracy: 0.9752\n",
      "Epoch 26/125\n",
      "483/483 [==============================] - 0s 19us/step - loss: 0.0924 - accuracy: 0.9752\n",
      "Epoch 27/125\n",
      "483/483 [==============================] - 0s 21us/step - loss: 0.0900 - accuracy: 0.9731\n",
      "Epoch 28/125\n",
      "483/483 [==============================] - 0s 23us/step - loss: 0.0875 - accuracy: 0.9752\n",
      "Epoch 29/125\n",
      "483/483 [==============================] - 0s 21us/step - loss: 0.0851 - accuracy: 0.9752\n",
      "Epoch 30/125\n",
      "483/483 [==============================] - 0s 31us/step - loss: 0.0831 - accuracy: 0.9752\n",
      "Epoch 31/125\n",
      "483/483 [==============================] - 0s 23us/step - loss: 0.0814 - accuracy: 0.9752\n",
      "Epoch 32/125\n",
      "483/483 [==============================] - 0s 19us/step - loss: 0.0796 - accuracy: 0.9752\n",
      "Epoch 33/125\n",
      "483/483 [==============================] - 0s 23us/step - loss: 0.0780 - accuracy: 0.9752\n",
      "Epoch 34/125\n",
      "483/483 [==============================] - 0s 23us/step - loss: 0.0767 - accuracy: 0.9752\n",
      "Epoch 35/125\n",
      "483/483 [==============================] - 0s 21us/step - loss: 0.0753 - accuracy: 0.9752\n",
      "Epoch 36/125\n",
      "483/483 [==============================] - 0s 21us/step - loss: 0.0741 - accuracy: 0.9752\n",
      "Epoch 37/125\n",
      "483/483 [==============================] - 0s 21us/step - loss: 0.0728 - accuracy: 0.9752\n",
      "Epoch 38/125\n",
      "483/483 [==============================] - 0s 21us/step - loss: 0.0717 - accuracy: 0.9752\n",
      "Epoch 39/125\n",
      "483/483 [==============================] - 0s 21us/step - loss: 0.0706 - accuracy: 0.9752\n",
      "Epoch 40/125\n",
      "483/483 [==============================] - 0s 21us/step - loss: 0.0696 - accuracy: 0.9752\n",
      "Epoch 41/125\n",
      "483/483 [==============================] - 0s 21us/step - loss: 0.0687 - accuracy: 0.9752\n",
      "Epoch 42/125\n",
      "483/483 [==============================] - 0s 23us/step - loss: 0.0677 - accuracy: 0.9772\n",
      "Epoch 43/125\n",
      "483/483 [==============================] - 0s 21us/step - loss: 0.0668 - accuracy: 0.9772\n",
      "Epoch 44/125\n",
      "483/483 [==============================] - 0s 21us/step - loss: 0.0660 - accuracy: 0.9772\n",
      "Epoch 45/125\n",
      "483/483 [==============================] - 0s 21us/step - loss: 0.0653 - accuracy: 0.9772\n",
      "Epoch 46/125\n",
      "483/483 [==============================] - 0s 25us/step - loss: 0.0644 - accuracy: 0.9772\n",
      "Epoch 47/125\n",
      "483/483 [==============================] - 0s 21us/step - loss: 0.0638 - accuracy: 0.9772\n",
      "Epoch 48/125\n",
      "483/483 [==============================] - 0s 19us/step - loss: 0.0631 - accuracy: 0.9793\n",
      "Epoch 49/125\n",
      "483/483 [==============================] - 0s 21us/step - loss: 0.0623 - accuracy: 0.9793\n",
      "Epoch 50/125\n",
      "483/483 [==============================] - 0s 21us/step - loss: 0.0616 - accuracy: 0.9793\n",
      "Epoch 51/125\n",
      "483/483 [==============================] - 0s 23us/step - loss: 0.0610 - accuracy: 0.9793\n",
      "Epoch 52/125\n",
      "483/483 [==============================] - 0s 21us/step - loss: 0.0603 - accuracy: 0.9793\n",
      "Epoch 53/125\n",
      "483/483 [==============================] - 0s 19us/step - loss: 0.0597 - accuracy: 0.9793\n",
      "Epoch 54/125\n",
      "483/483 [==============================] - 0s 21us/step - loss: 0.0591 - accuracy: 0.9793\n",
      "Epoch 55/125\n",
      "483/483 [==============================] - 0s 18us/step - loss: 0.0585 - accuracy: 0.9793\n",
      "Epoch 56/125\n",
      "483/483 [==============================] - 0s 19us/step - loss: 0.0580 - accuracy: 0.9793\n",
      "Epoch 57/125\n",
      "483/483 [==============================] - 0s 21us/step - loss: 0.0573 - accuracy: 0.9793\n",
      "Epoch 58/125\n",
      "483/483 [==============================] - 0s 21us/step - loss: 0.0568 - accuracy: 0.9793\n",
      "Epoch 59/125\n",
      "483/483 [==============================] - 0s 21us/step - loss: 0.0562 - accuracy: 0.9793\n",
      "Epoch 60/125\n",
      "483/483 [==============================] - 0s 21us/step - loss: 0.0556 - accuracy: 0.9793\n",
      "Epoch 61/125\n",
      "483/483 [==============================] - 0s 19us/step - loss: 0.0551 - accuracy: 0.9793\n",
      "Epoch 62/125\n",
      "483/483 [==============================] - 0s 23us/step - loss: 0.0546 - accuracy: 0.9793\n",
      "Epoch 63/125\n",
      "483/483 [==============================] - 0s 21us/step - loss: 0.0540 - accuracy: 0.9793\n",
      "Epoch 64/125\n",
      "483/483 [==============================] - 0s 19us/step - loss: 0.0534 - accuracy: 0.9814\n",
      "Epoch 65/125\n",
      "483/483 [==============================] - 0s 19us/step - loss: 0.0529 - accuracy: 0.9814\n",
      "Epoch 66/125\n",
      "483/483 [==============================] - 0s 21us/step - loss: 0.0524 - accuracy: 0.9814\n",
      "Epoch 67/125\n",
      "483/483 [==============================] - 0s 21us/step - loss: 0.0519 - accuracy: 0.9814\n",
      "Epoch 68/125\n",
      "483/483 [==============================] - 0s 23us/step - loss: 0.0514 - accuracy: 0.9814\n",
      "Epoch 69/125\n",
      "483/483 [==============================] - 0s 27us/step - loss: 0.0509 - accuracy: 0.9814\n",
      "Epoch 70/125\n",
      "483/483 [==============================] - 0s 21us/step - loss: 0.0505 - accuracy: 0.9793\n",
      "Epoch 71/125\n",
      "483/483 [==============================] - 0s 21us/step - loss: 0.0500 - accuracy: 0.9814\n",
      "Epoch 72/125\n",
      "483/483 [==============================] - 0s 23us/step - loss: 0.0495 - accuracy: 0.9834\n",
      "Epoch 73/125\n",
      "483/483 [==============================] - 0s 21us/step - loss: 0.0490 - accuracy: 0.9834\n",
      "Epoch 74/125\n",
      "483/483 [==============================] - 0s 21us/step - loss: 0.0486 - accuracy: 0.9834\n",
      "Epoch 75/125\n",
      "483/483 [==============================] - 0s 21us/step - loss: 0.0481 - accuracy: 0.9834\n",
      "Epoch 76/125\n",
      "483/483 [==============================] - 0s 23us/step - loss: 0.0476 - accuracy: 0.9834\n",
      "Epoch 77/125\n",
      "483/483 [==============================] - 0s 21us/step - loss: 0.0473 - accuracy: 0.9834\n",
      "Epoch 78/125\n",
      "483/483 [==============================] - 0s 19us/step - loss: 0.0467 - accuracy: 0.9834\n",
      "Epoch 79/125\n",
      "483/483 [==============================] - 0s 19us/step - loss: 0.0463 - accuracy: 0.9834\n",
      "Epoch 80/125\n"
     ]
    },
    {
     "name": "stdout",
     "output_type": "stream",
     "text": [
      "483/483 [==============================] - 0s 23us/step - loss: 0.0459 - accuracy: 0.9834\n",
      "Epoch 81/125\n",
      "483/483 [==============================] - 0s 21us/step - loss: 0.0455 - accuracy: 0.9834\n",
      "Epoch 82/125\n",
      "483/483 [==============================] - 0s 21us/step - loss: 0.0450 - accuracy: 0.9834\n",
      "Epoch 83/125\n",
      "483/483 [==============================] - 0s 21us/step - loss: 0.0446 - accuracy: 0.9834\n",
      "Epoch 84/125\n",
      "483/483 [==============================] - 0s 21us/step - loss: 0.0442 - accuracy: 0.9834\n",
      "Epoch 85/125\n",
      "483/483 [==============================] - 0s 23us/step - loss: 0.0437 - accuracy: 0.9855\n",
      "Epoch 86/125\n",
      "483/483 [==============================] - 0s 19us/step - loss: 0.0434 - accuracy: 0.9855\n",
      "Epoch 87/125\n",
      "483/483 [==============================] - 0s 21us/step - loss: 0.0428 - accuracy: 0.9855\n",
      "Epoch 88/125\n",
      "483/483 [==============================] - 0s 21us/step - loss: 0.0425 - accuracy: 0.9876\n",
      "Epoch 89/125\n",
      "483/483 [==============================] - 0s 25us/step - loss: 0.0420 - accuracy: 0.9876\n",
      "Epoch 90/125\n",
      "483/483 [==============================] - 0s 21us/step - loss: 0.0416 - accuracy: 0.9876\n",
      "Epoch 91/125\n",
      "483/483 [==============================] - 0s 19us/step - loss: 0.0412 - accuracy: 0.9876\n",
      "Epoch 92/125\n",
      "483/483 [==============================] - 0s 21us/step - loss: 0.0408 - accuracy: 0.9876\n",
      "Epoch 93/125\n",
      "483/483 [==============================] - 0s 27us/step - loss: 0.0404 - accuracy: 0.9876\n",
      "Epoch 94/125\n",
      "483/483 [==============================] - 0s 29us/step - loss: 0.0400 - accuracy: 0.9896\n",
      "Epoch 95/125\n",
      "483/483 [==============================] - 0s 31us/step - loss: 0.0396 - accuracy: 0.9896\n",
      "Epoch 96/125\n",
      "483/483 [==============================] - 0s 27us/step - loss: 0.0391 - accuracy: 0.9917\n",
      "Epoch 97/125\n",
      "483/483 [==============================] - 0s 29us/step - loss: 0.0387 - accuracy: 0.9917\n",
      "Epoch 98/125\n",
      "483/483 [==============================] - 0s 17us/step - loss: 0.0383 - accuracy: 0.9917\n",
      "Epoch 99/125\n",
      "483/483 [==============================] - 0s 19us/step - loss: 0.0379 - accuracy: 0.9917\n",
      "Epoch 100/125\n",
      "483/483 [==============================] - 0s 17us/step - loss: 0.0376 - accuracy: 0.9917\n",
      "Epoch 101/125\n",
      "483/483 [==============================] - 0s 17us/step - loss: 0.0371 - accuracy: 0.9917\n",
      "Epoch 102/125\n",
      "483/483 [==============================] - 0s 17us/step - loss: 0.0367 - accuracy: 0.9917\n",
      "Epoch 103/125\n",
      "483/483 [==============================] - 0s 14us/step - loss: 0.0364 - accuracy: 0.9917\n",
      "Epoch 104/125\n",
      "483/483 [==============================] - 0s 14us/step - loss: 0.0360 - accuracy: 0.9917\n",
      "Epoch 105/125\n",
      "483/483 [==============================] - 0s 17us/step - loss: 0.0355 - accuracy: 0.9917\n",
      "Epoch 106/125\n",
      "483/483 [==============================] - 0s 14us/step - loss: 0.0351 - accuracy: 0.9917\n",
      "Epoch 107/125\n",
      "483/483 [==============================] - 0s 16us/step - loss: 0.0348 - accuracy: 0.9917\n",
      "Epoch 108/125\n",
      "483/483 [==============================] - 0s 14us/step - loss: 0.0344 - accuracy: 0.9917\n",
      "Epoch 109/125\n",
      "483/483 [==============================] - 0s 17us/step - loss: 0.0340 - accuracy: 0.9917\n",
      "Epoch 110/125\n",
      "483/483 [==============================] - 0s 17us/step - loss: 0.0336 - accuracy: 0.9917\n",
      "Epoch 111/125\n",
      "483/483 [==============================] - 0s 17us/step - loss: 0.0332 - accuracy: 0.9917\n",
      "Epoch 112/125\n",
      "483/483 [==============================] - 0s 14us/step - loss: 0.0328 - accuracy: 0.9917\n",
      "Epoch 113/125\n",
      "483/483 [==============================] - 0s 15us/step - loss: 0.0324 - accuracy: 0.9917\n",
      "Epoch 114/125\n",
      "483/483 [==============================] - 0s 17us/step - loss: 0.0320 - accuracy: 0.9917\n",
      "Epoch 115/125\n",
      "483/483 [==============================] - 0s 14us/step - loss: 0.0316 - accuracy: 0.9917\n",
      "Epoch 116/125\n",
      "483/483 [==============================] - 0s 17us/step - loss: 0.0312 - accuracy: 0.9917\n",
      "Epoch 117/125\n",
      "483/483 [==============================] - 0s 19us/step - loss: 0.0311 - accuracy: 0.9917\n",
      "Epoch 118/125\n",
      "483/483 [==============================] - 0s 14us/step - loss: 0.0305 - accuracy: 0.9917\n",
      "Epoch 119/125\n",
      "483/483 [==============================] - 0s 17us/step - loss: 0.0302 - accuracy: 0.9917\n",
      "Epoch 120/125\n",
      "483/483 [==============================] - 0s 16us/step - loss: 0.0298 - accuracy: 0.9917\n",
      "Epoch 121/125\n",
      "483/483 [==============================] - 0s 15us/step - loss: 0.0294 - accuracy: 0.9917\n",
      "Epoch 122/125\n",
      "483/483 [==============================] - 0s 14us/step - loss: 0.0290 - accuracy: 0.9917\n",
      "Epoch 123/125\n",
      "483/483 [==============================] - ETA: 0s - loss: 0.0411 - accuracy: 0.99 - 0s 16us/step - loss: 0.0287 - accuracy: 0.9917\n",
      "Epoch 124/125\n",
      "483/483 [==============================] - 0s 16us/step - loss: 0.0284 - accuracy: 0.9917\n",
      "Epoch 125/125\n",
      "483/483 [==============================] - 0s 12us/step - loss: 0.0280 - accuracy: 0.9917\n"
     ]
    },
    {
     "data": {
      "text/plain": [
       "<keras.callbacks.callbacks.History at 0x280c790c588>"
      ]
     },
     "execution_count": 26,
     "metadata": {},
     "output_type": "execute_result"
    }
   ],
   "source": [
    "classifier.fit(X_train, y_train, batch_size = 100, epochs = 125)"
   ]
  },
  {
   "cell_type": "code",
   "execution_count": 27,
   "metadata": {},
   "outputs": [],
   "source": [
    "classifier.save(\"model_with_dropout_layer.h5\")"
   ]
  },
  {
   "cell_type": "markdown",
   "metadata": {},
   "source": [
    "# Predicting the results of Testing set"
   ]
  },
  {
   "cell_type": "code",
   "execution_count": 28,
   "metadata": {},
   "outputs": [],
   "source": [
    "y_pred = classifier.predict(X_test)\n",
    "y_pred = (y_pred > 0.5)"
   ]
  },
  {
   "cell_type": "code",
   "execution_count": 29,
   "metadata": {},
   "outputs": [
    {
     "name": "stdout",
     "output_type": "stream",
     "text": [
      "[[1 1]\n",
      " [0 0]\n",
      " [0 0]\n",
      " [0 0]\n",
      " [0 0]\n",
      " [0 0]\n",
      " [0 0]\n",
      " [0 0]\n",
      " [0 0]\n",
      " [0 0]\n",
      " [0 0]\n",
      " [0 0]\n",
      " [0 0]\n",
      " [1 0]\n",
      " [0 0]\n",
      " [1 1]\n",
      " [0 0]\n",
      " [1 1]\n",
      " [1 1]\n",
      " [1 1]\n",
      " [1 1]\n",
      " [1 1]\n",
      " [0 0]\n",
      " [0 0]\n",
      " [1 1]\n",
      " [0 0]\n",
      " [0 0]\n",
      " [1 1]\n",
      " [0 0]\n",
      " [1 1]\n",
      " [0 0]\n",
      " [1 1]\n",
      " [0 0]\n",
      " [1 1]\n",
      " [0 0]\n",
      " [1 1]\n",
      " [0 0]\n",
      " [1 1]\n",
      " [0 0]\n",
      " [1 1]\n",
      " [1 1]\n",
      " [0 0]\n",
      " [1 1]\n",
      " [0 0]\n",
      " [0 0]\n",
      " [1 1]\n",
      " [0 0]\n",
      " [0 0]\n",
      " [0 0]\n",
      " [1 1]\n",
      " [1 1]\n",
      " [1 1]\n",
      " [1 1]\n",
      " [0 0]\n",
      " [0 0]\n",
      " [0 0]\n",
      " [0 0]\n",
      " [0 0]\n",
      " [0 0]\n",
      " [1 1]\n",
      " [1 1]\n",
      " [1 1]\n",
      " [0 0]\n",
      " [0 0]\n",
      " [1 1]\n",
      " [0 0]\n",
      " [1 1]\n",
      " [1 1]\n",
      " [1 1]\n",
      " [0 0]\n",
      " [0 0]\n",
      " [1 1]\n",
      " [0 0]\n",
      " [1 1]\n",
      " [1 1]\n",
      " [0 0]\n",
      " [0 0]\n",
      " [0 0]\n",
      " [0 0]\n",
      " [0 0]\n",
      " [1 1]\n",
      " [1 1]\n",
      " [1 1]\n",
      " [0 0]\n",
      " [1 1]\n",
      " [0 0]]\n"
     ]
    }
   ],
   "source": [
    "print(np.concatenate((y_pred.reshape(len(y_pred), 1), y_test.reshape(len(y_test), 1)), 1))"
   ]
  },
  {
   "cell_type": "markdown",
   "metadata": {},
   "source": [
    "# Generating the Confusion Matrix"
   ]
  },
  {
   "cell_type": "code",
   "execution_count": 30,
   "metadata": {},
   "outputs": [],
   "source": [
    "from sklearn.metrics import confusion_matrix"
   ]
  },
  {
   "cell_type": "code",
   "execution_count": 31,
   "metadata": {},
   "outputs": [
    {
     "name": "stdout",
     "output_type": "stream",
     "text": [
      "[[49  1]\n",
      " [ 0 36]]\n"
     ]
    }
   ],
   "source": [
    "cm = confusion_matrix(y_test, y_pred)\n",
    "print(cm)"
   ]
  },
  {
   "cell_type": "markdown",
   "metadata": {},
   "source": [
    "# Plotting the confsuion matrix"
   ]
  },
  {
   "cell_type": "code",
   "execution_count": 32,
   "metadata": {},
   "outputs": [
    {
     "data": {
      "image/png": "[encoded data removed]",
      "text/plain": [
       "<Figure size 432x288 with 2 Axes>"
      ]
     },
     "metadata": {
      "needs_background": "light"
     },
     "output_type": "display_data"
    }
   ],
   "source": [
    "sns.heatmap(cm, annot = True)\n",
    "\n",
    "# annotbool or rectangular dataset, optional\n",
    "# If True, write the data value in each cell. If an array-like with the same shape as data, then use this to annotate the heatmap instead of the data.\n",
    "\n",
    "plt.savefig(\"confusion_matrix_dropout.jpg\")"
   ]
  },
  {
   "cell_type": "code",
   "execution_count": null,
   "metadata": {},
   "outputs": [],
   "source": []
  }
 ],
 "metadata": {
  "kernelspec": {
   "display_name": "Python 3",
   "language": "python",
   "name": "python3"
  },
  "language_info": {
   "codemirror_mode": {
    "name": "ipython",
    "version": 3
   },
   "file_extension": ".py",
   "mimetype": "text/x-python",
   "name": "python",
   "nbconvert_exporter": "python",
   "pygments_lexer": "ipython3",
   "version": "3.7.6"
  }
 },
 "nbformat": 4,
 "nbformat_minor": 4
}
